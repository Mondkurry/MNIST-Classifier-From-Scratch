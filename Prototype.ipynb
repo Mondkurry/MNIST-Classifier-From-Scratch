{
 "cells": [
  {
   "cell_type": "code",
   "execution_count": 11,
   "metadata": {},
   "outputs": [],
   "source": [
    "import numpy as np\n",
    "import pandas as pd\n",
    "import matplotlib.pyplot as plt\n",
    "import random\n",
    "\n",
    "from Engine.Engine import Value, Neuron, Layer, Visualizer, MLP\n",
    "from Engine.MLUtils import printPurple\n",
    "\n",
    "from keras.datasets import mnist"
   ]
  },
  {
   "cell_type": "code",
   "execution_count": 16,
   "metadata": {},
   "outputs": [
    {
     "name": "stdout",
     "output_type": "stream",
     "text": [
      "Value(data=2, grad=1)\n"
     ]
    }
   ],
   "source": [
    "# testing imports\n",
    "v = Value(1) ; v.label = \"v\"\n",
    "v2 = Value(2) ;  v2.label = \"v2\"\n",
    "v3 = v * v2 ; v3.label = \"v3\"\n",
    "\n",
    "v3.backward()\n",
    "\n",
    "print(v3)\n"
   ]
  },
  {
   "cell_type": "code",
   "execution_count": 17,
   "metadata": {},
   "outputs": [
    {
     "name": "stdout",
     "output_type": "stream",
     "text": [
      "X_train: (60000, 28, 28)\n",
      "Y_train: (60000,)\n",
      "X_test:  (10000, 28, 28)\n",
      "Y_test:  (10000,)\n"
     ]
    }
   ],
   "source": [
    "# import Data\n",
    "(train_X, train_y), (test_X, test_y) = mnist.load_data()\n",
    "\n",
    "print('X_train: ' + str(train_X.shape))\n",
    "print('Y_train: ' + str(train_y.shape))\n",
    "print('X_test:  '  + str(test_X.shape))\n",
    "print('Y_test:  '  + str(test_y.shape))"
   ]
  },
  {
   "cell_type": "code",
   "execution_count": 18,
   "metadata": {},
   "outputs": [
    {
     "data": {
      "image/png": "[encoded data removed]",
      "text/plain": [
       "<Figure size 640x480 with 1 Axes>"
      ]
     },
     "metadata": {},
     "output_type": "display_data"
    },
    {
     "data": {
      "image/png": "[encoded data removed]",
      "text/plain": [
       "<Figure size 640x480 with 1 Axes>"
      ]
     },
     "metadata": {},
     "output_type": "display_data"
    },
    {
     "data": {
      "image/png": "[encoded data removed]",
      "text/plain": [
       "<Figure size 640x480 with 1 Axes>"
      ]
     },
     "metadata": {},
     "output_type": "display_data"
    },
    {
     "data": {
      "text/plain": [
       "(28, 28)"
      ]
     },
     "execution_count": 18,
     "metadata": {},
     "output_type": "execute_result"
    }
   ],
   "source": [
    "# See if the data is usable\n",
    "for i in range(3):  \n",
    "    plt.subplot(330 + 1 + i)\n",
    "    plt.imshow(train_X[i], cmap=plt.get_cmap('gray'))\n",
    "    plt.show()\n",
    "\n",
    "train_X[0].shape"
   ]
  },
  {
   "cell_type": "code",
   "execution_count": 19,
   "metadata": {},
   "outputs": [
    {
     "name": "stdout",
     "output_type": "stream",
     "text": [
      "def train(model, xs, ys, epochs, iterPerEpoch, lr):\n",
      "(60000, 784, 1)\n"
     ]
    }
   ],
   "source": [
    "from Engine.MultiLayerPerceptron import train\n",
    "\n",
    "print(\"def train(model, xs, ys, epochs, iterPerEpoch, lr):\")\n",
    "\n",
    "def reshapeImage(image):\n",
    "    return np.reshape(image, (image.shape[0] * image.shape[1], 1))\n",
    "\n",
    "def flattenData(inputImages):\n",
    "    outputImages = []\n",
    "    \"\"\"Enter Input Images as an array full of images\"\"\"\n",
    "    for i in range(inputImages.shape[0]):\n",
    "        outputImages.append(reshapeImage(inputImages[i]))\n",
    "        \n",
    "    return np.array(outputImages)\n",
    "    \n",
    "    \n",
    "images = flattenData(train_X)\n",
    "print(images.shape)"
   ]
  },
  {
   "cell_type": "code",
   "execution_count": 20,
   "metadata": {},
   "outputs": [],
   "source": [
    "trainImages = flattenData(train_X)\n",
    "trainLabels = train_y\n",
    "\n",
    "model1 = MLP(784, [128, 64, 10])\n"
   ]
  },
  {
   "cell_type": "code",
   "execution_count": 22,
   "metadata": {},
   "outputs": [],
   "source": [
    "def calcLoss(modelPred, Actual):\n",
    "    predArray = np.zeros(10)\n",
    "    predArray[Actual] = 1\n",
    "    loss = 0\n",
    "    \n",
    "    for i, out in enumerate(modelPred):\n",
    "        loss += (out.data - predArray[i])**2\n",
    "    \n",
    "    return loss\n",
    "        "
   ]
  },
  {
   "cell_type": "code",
   "execution_count": null,
   "metadata": {},
   "outputs": [],
   "source": [
    "# loss function\n",
    "def loss(model, batch_size=None):\n",
    "    \n",
    "\n",
    "    inputs = [list(map(Value, xrow)) for xrow in trainImages]\n",
    "    \n",
    "    # forward the model to get scores\n",
    "    scores = list(map(model, inputs))\n",
    "    \n",
    "    # svm \"max-margin\" loss\n",
    "    losses = [(1 + -yi*scorei).relu() for yi, scorei in zip(, scores)]\n",
    "    data_loss = sum(losses) * (1.0 / len(losses))\n",
    "    # L2 regularization\n",
    "    alpha = 1e-4\n",
    "    reg_loss = alpha * sum((p*p for p in model.parameters()))\n",
    "    total_loss = data_loss + reg_loss\n",
    "    \n",
    "    # also get accuracy\n",
    "    accuracy = [(yi > 0) == (scorei.data > 0) for yi, scorei in zip(yb, scores)]\n",
    "    return total_loss, sum(accuracy) / len(accuracy)"
   ]
  },
  {
   "cell_type": "code",
   "execution_count": 23,
   "metadata": {},
   "outputs": [],
   "source": [
    "def pred(model, image):\n",
    "    highestPred = -1\n",
    "    prediction = -1\n",
    "    for i, out in enumerate(model(image)):\n",
    "        if out.value > highestPred:\n",
    "            highestPred = out.value\n",
    "            prediction = i\n",
    "        \n",
    "    if highestPred == -1:\n",
    "        return \"Error\"\n",
    "    else:\n",
    "        return prediction\n",
    "\n",
    "prediction = model1(trainImages[1])\n",
    "actual = trainLabels[1]\n",
    "\n"
   ]
  },
  {
   "cell_type": "code",
   "execution_count": 24,
   "metadata": {},
   "outputs": [
    {
     "name": "stdout",
     "output_type": "stream",
     "text": [
      "[1.2212136e+09]\n"
     ]
    }
   ],
   "source": [
    "loss = calcLoss(prediction, actual)\n",
    "print(loss)"
   ]
  },
  {
   "cell_type": "code",
   "execution_count": 82,
   "metadata": {},
   "outputs": [],
   "source": [
    "from tqdm import tqdm\n",
    "\n",
    "def trainMNIST(model, images, labels, epochs, BatchSize, lr):\n",
    "    \"\"\"\n",
    "    def train(model, xs, ys, epochs, iterPerEpoch, lr):\n",
    "    \"\"\"\n",
    "    \n",
    "    # initialLoss = sum((yOut + (-yGroundTruth)) ** 2 for yGroundTruth, yOut in zip(ys, [model(x) for x in xs]))\n",
    "    \n",
    "    print(\"\\n\\033[1;33mTraining: \\n------------------------\\033[0m\")\n",
    "    for i in range(epochs):\n",
    "        avgLoss = 0\n",
    "        \n",
    "        Batches = tqdm(range(BatchSize))\n",
    "        for k in Batches:            \n",
    "            predictions = model(images[(i * BatchSize + k)])\n",
    "            loss = Value(calcLoss(predictions, labels[i * BatchSize + k]))\n",
    "            loss.label = \"Loss\"\n",
    "            \n",
    "            avgLoss += loss.data\n",
    "            \n",
    "            for param in model.parameters():\n",
    "                param.grad = 0.0 # Zero the gradient\n",
    "                \n",
    "            loss.backward() # Back Propagation\n",
    "            \n",
    "            for param in model.parameters():\n",
    "                param.data +=  param.grad * -lr # Update the parameters by a small factor\n",
    "            \n",
    "            avgLoss /= (k+1)\n",
    "            Batches.set_description(f\"Epoch {i+1}\")\n",
    "            Batches.set_postfix({'avgLoss': avgLoss})\n",
    "            \n",
    "        "
   ]
  },
  {
   "cell_type": "code",
   "execution_count": null,
   "metadata": {},
   "outputs": [],
   "source": [
    "from tqdm import tqdm\n",
    "\n",
    "def trainMNIST(model, images, labels, epochs, BatchSize, lr):\n",
    "        \n",
    "    print(\"\\n\\033[1;33mTraining: \\n------------------------\\033[0m\")\n",
    "    for i in range(epochs):\n",
    "        avgLoss = 0\n",
    "        \n",
    "        Batches = tqdm(range(BatchSize))\n",
    "        for k in Batches:            \n",
    "            predictions = model(images[(i * BatchSize + k)])\n",
    "            loss = Value(calcLoss(predictions, labels[i * BatchSize + k]))\n",
    "            loss.label = \"Loss\"\n",
    "            \n",
    "            avgLoss += loss.data\n",
    "            \n",
    "            for param in model.parameters():\n",
    "                param.grad = 0.0 # Zero the gradient\n",
    "                \n",
    "            loss.backward() # Back Propagation\n",
    "            \n",
    "            for param in model.parameters():\n",
    "                param.data +=  param.grad * -lr # Update the parameters by a small factor\n",
    "            \n",
    "            avgLoss /= (k+1)\n",
    "            Batches.set_description(f\"Epoch {i+1}\")\n",
    "            Batches.set_postfix({'avgLoss': avgLoss})"
   ]
  },
  {
   "cell_type": "code",
   "execution_count": null,
   "metadata": {},
   "outputs": [],
   "source": [
    "# optimization\n",
    "for k in range(100):\n",
    "    \n",
    "    # forward\n",
    "    total_loss, acc = loss()\n",
    "    \n",
    "    # backward\n",
    "    model.zero_grad()\n",
    "    total_loss.backward()\n",
    "    \n",
    "    # update (sgd)\n",
    "    learning_rate = 1.0 - 0.9*k/100\n",
    "    for p in model.parameters():\n",
    "        p.data -= learning_rate * p.grad\n",
    "    \n",
    "    if k % 1 == 0:\n",
    "        print(f\"step {k} loss {total_loss.data}, accuracy {acc*100}%\")"
   ]
  },
  {
   "cell_type": "code",
   "execution_count": 83,
   "metadata": {},
   "outputs": [],
   "source": [
    "model2 = MLP(784, [512, 128, 64, 10])\n",
    "\n",
    "for neuron in model2.layers[1].parameters():\n",
    "    neuron.activation = 'relu'\n",
    "for neuron in model2.layers[2].parameters():\n",
    "    neuron.activation = 'relu'\n",
    "for neuron in model2.layers[3].parameters():\n",
    "    neuron.activation = 'tanh'"
   ]
  },
  {
   "cell_type": "code",
   "execution_count": 84,
   "metadata": {},
   "outputs": [
    {
     "name": "stdout",
     "output_type": "stream",
     "text": [
      "\n",
      "\u001b[1;33mTraining: \n",
      "------------------------\u001b[0m\n"
     ]
    },
    {
     "name": "stderr",
     "output_type": "stream",
     "text": [
      "Epoch 1:   2%|▏         | 1/50 [00:36<30:11, 36.96s/it, avgLoss=[1.10382243e+12]]\n"
     ]
    },
    {
     "ename": "KeyboardInterrupt",
     "evalue": "",
     "output_type": "error",
     "traceback": [
      "\u001b[0;31m---------------------------------------------------------------------------\u001b[0m",
      "\u001b[0;31mKeyboardInterrupt\u001b[0m                         Traceback (most recent call last)",
      "Cell \u001b[0;32mIn[84], line 1\u001b[0m\n\u001b[0;32m----> 1\u001b[0m trainMNIST(model2, trainImages, trainLabels, \u001b[39m50\u001b[39;49m, \u001b[39m50\u001b[39;49m, \u001b[39m0.1\u001b[39;49m)\n",
      "Cell \u001b[0;32mIn[82], line 16\u001b[0m, in \u001b[0;36mtrainMNIST\u001b[0;34m(model, images, labels, epochs, BatchSize, lr)\u001b[0m\n\u001b[1;32m     14\u001b[0m Batches \u001b[39m=\u001b[39m tqdm(\u001b[39mrange\u001b[39m(BatchSize))\n\u001b[1;32m     15\u001b[0m \u001b[39mfor\u001b[39;00m k \u001b[39min\u001b[39;00m Batches:            \n\u001b[0;32m---> 16\u001b[0m     predictions \u001b[39m=\u001b[39m model(images[(i \u001b[39m*\u001b[39;49m BatchSize \u001b[39m+\u001b[39;49m k)])\n\u001b[1;32m     17\u001b[0m     loss \u001b[39m=\u001b[39m Value(calcLoss(predictions, labels[i \u001b[39m*\u001b[39m BatchSize \u001b[39m+\u001b[39m k]))\n\u001b[1;32m     18\u001b[0m     loss\u001b[39m.\u001b[39mlabel \u001b[39m=\u001b[39m \u001b[39m\"\u001b[39m\u001b[39mLoss\u001b[39m\u001b[39m\"\u001b[39m\n",
      "File \u001b[0;32m~/Desktop/CS Gross/Python ew/MNIST-classifier-from-scratch/Engine/Engine.py:153\u001b[0m, in \u001b[0;36mMLP.__call__\u001b[0;34m(self, x)\u001b[0m\n\u001b[1;32m    151\u001b[0m \u001b[39mdef\u001b[39;00m \u001b[39m__call__\u001b[39m(\u001b[39mself\u001b[39m, x):\n\u001b[1;32m    152\u001b[0m     \u001b[39mfor\u001b[39;00m layer \u001b[39min\u001b[39;00m \u001b[39mself\u001b[39m\u001b[39m.\u001b[39mlayers:\n\u001b[0;32m--> 153\u001b[0m         x \u001b[39m=\u001b[39m layer(x)\n\u001b[1;32m    154\u001b[0m     \u001b[39mreturn\u001b[39;00m x\n",
      "File \u001b[0;32m~/Desktop/CS Gross/Python ew/MNIST-classifier-from-scratch/Engine/Engine.py:136\u001b[0m, in \u001b[0;36mLayer.__call__\u001b[0;34m(self, x)\u001b[0m\n\u001b[1;32m    135\u001b[0m \u001b[39mdef\u001b[39;00m \u001b[39m__call__\u001b[39m(\u001b[39mself\u001b[39m, x):\n\u001b[0;32m--> 136\u001b[0m     out \u001b[39m=\u001b[39m [n(x) \u001b[39mfor\u001b[39;49;00m n \u001b[39min\u001b[39;49;00m \u001b[39mself\u001b[39;49m\u001b[39m.\u001b[39;49mneurons]\n\u001b[1;32m    137\u001b[0m     \u001b[39mreturn\u001b[39;00m out[\u001b[39m0\u001b[39m] \u001b[39mif\u001b[39;00m \u001b[39mlen\u001b[39m(out) \u001b[39m==\u001b[39m \u001b[39m1\u001b[39m \u001b[39melse\u001b[39;00m out\n",
      "File \u001b[0;32m~/Desktop/CS Gross/Python ew/MNIST-classifier-from-scratch/Engine/Engine.py:136\u001b[0m, in \u001b[0;36m<listcomp>\u001b[0;34m(.0)\u001b[0m\n\u001b[1;32m    135\u001b[0m \u001b[39mdef\u001b[39;00m \u001b[39m__call__\u001b[39m(\u001b[39mself\u001b[39m, x):\n\u001b[0;32m--> 136\u001b[0m     out \u001b[39m=\u001b[39m [n(x) \u001b[39mfor\u001b[39;00m n \u001b[39min\u001b[39;00m \u001b[39mself\u001b[39m\u001b[39m.\u001b[39mneurons]\n\u001b[1;32m    137\u001b[0m     \u001b[39mreturn\u001b[39;00m out[\u001b[39m0\u001b[39m] \u001b[39mif\u001b[39;00m \u001b[39mlen\u001b[39m(out) \u001b[39m==\u001b[39m \u001b[39m1\u001b[39m \u001b[39melse\u001b[39;00m out\n",
      "File \u001b[0;32m~/Desktop/CS Gross/Python ew/MNIST-classifier-from-scratch/Engine/Engine.py:121\u001b[0m, in \u001b[0;36mNeuron.__call__\u001b[0;34m(self, x)\u001b[0m\n\u001b[1;32m    120\u001b[0m \u001b[39mdef\u001b[39;00m \u001b[39m__call__\u001b[39m(\u001b[39mself\u001b[39m, x):\n\u001b[0;32m--> 121\u001b[0m     act \u001b[39m=\u001b[39m \u001b[39msum\u001b[39m((wi\u001b[39m*\u001b[39mxi \u001b[39mfor\u001b[39;00m wi,xi \u001b[39min\u001b[39;00m \u001b[39mzip\u001b[39m(\u001b[39mself\u001b[39m\u001b[39m.\u001b[39mw, x)), \u001b[39mself\u001b[39m\u001b[39m.\u001b[39mb)\n\u001b[1;32m    122\u001b[0m     \u001b[39mreturn\u001b[39;00m act\u001b[39m.\u001b[39mrelu() \u001b[39mif\u001b[39;00m \u001b[39mself\u001b[39m\u001b[39m.\u001b[39mnonlin \u001b[39melse\u001b[39;00m act\n",
      "File \u001b[0;32m~/Desktop/CS Gross/Python ew/MNIST-classifier-from-scratch/Engine/Engine.py:121\u001b[0m, in \u001b[0;36m<genexpr>\u001b[0;34m(.0)\u001b[0m\n\u001b[1;32m    120\u001b[0m \u001b[39mdef\u001b[39;00m \u001b[39m__call__\u001b[39m(\u001b[39mself\u001b[39m, x):\n\u001b[0;32m--> 121\u001b[0m     act \u001b[39m=\u001b[39m \u001b[39msum\u001b[39m((wi\u001b[39m*\u001b[39;49mxi \u001b[39mfor\u001b[39;00m wi,xi \u001b[39min\u001b[39;00m \u001b[39mzip\u001b[39m(\u001b[39mself\u001b[39m\u001b[39m.\u001b[39mw, x)), \u001b[39mself\u001b[39m\u001b[39m.\u001b[39mb)\n\u001b[1;32m    122\u001b[0m     \u001b[39mreturn\u001b[39;00m act\u001b[39m.\u001b[39mrelu() \u001b[39mif\u001b[39;00m \u001b[39mself\u001b[39m\u001b[39m.\u001b[39mnonlin \u001b[39melse\u001b[39;00m act\n",
      "File \u001b[0;32m~/Desktop/CS Gross/Python ew/MNIST-classifier-from-scratch/Engine/Engine.py:34\u001b[0m, in \u001b[0;36mValue.__mul__\u001b[0;34m(self, other)\u001b[0m\n\u001b[1;32m     32\u001b[0m \u001b[39mdef\u001b[39;00m \u001b[39m__mul__\u001b[39m(\u001b[39mself\u001b[39m, other):\n\u001b[1;32m     33\u001b[0m     other \u001b[39m=\u001b[39m other \u001b[39mif\u001b[39;00m \u001b[39misinstance\u001b[39m(other, Value) \u001b[39melse\u001b[39;00m Value(other)\n\u001b[0;32m---> 34\u001b[0m     out \u001b[39m=\u001b[39m Value(\u001b[39mself\u001b[39;49m\u001b[39m.\u001b[39;49mdata \u001b[39m*\u001b[39;49m other\u001b[39m.\u001b[39;49mdata, (\u001b[39mself\u001b[39;49m, other), \u001b[39m'\u001b[39;49m\u001b[39m*\u001b[39;49m\u001b[39m'\u001b[39;49m)\n\u001b[1;32m     36\u001b[0m     \u001b[39mdef\u001b[39;00m \u001b[39m_backward\u001b[39m():\n\u001b[1;32m     37\u001b[0m         \u001b[39mself\u001b[39m\u001b[39m.\u001b[39mgrad \u001b[39m+\u001b[39m\u001b[39m=\u001b[39m other\u001b[39m.\u001b[39mdata \u001b[39m*\u001b[39m out\u001b[39m.\u001b[39mgrad\n",
      "File \u001b[0;32m~/Desktop/CS Gross/Python ew/MNIST-classifier-from-scratch/Engine/Engine.py:18\u001b[0m, in \u001b[0;36mValue.__init__\u001b[0;34m(self, data, _children, _op)\u001b[0m\n\u001b[1;32m     16\u001b[0m \u001b[39m# internal variables used for autograd graph construction\u001b[39;00m\n\u001b[1;32m     17\u001b[0m \u001b[39mself\u001b[39m\u001b[39m.\u001b[39m_backward \u001b[39m=\u001b[39m \u001b[39mlambda\u001b[39;00m: \u001b[39mNone\u001b[39;00m\n\u001b[0;32m---> 18\u001b[0m \u001b[39mself\u001b[39m\u001b[39m.\u001b[39m_prev \u001b[39m=\u001b[39m \u001b[39mset\u001b[39m(_children)\n\u001b[1;32m     19\u001b[0m \u001b[39mself\u001b[39m\u001b[39m.\u001b[39m_op \u001b[39m=\u001b[39m _op\n",
      "\u001b[0;31mKeyboardInterrupt\u001b[0m: "
     ]
    }
   ],
   "source": [
    "trainMNIST(model2, trainImages, trainLabels, 50, 50, 0.1)"
   ]
  }
 ],
 "metadata": {
  "kernelspec": {
   "display_name": "Python 3",
   "language": "python",
   "name": "python3"
  },
  "language_info": {
   "codemirror_mode": {
    "name": "ipython",
    "version": 3
   },
   "file_extension": ".py",
   "mimetype": "text/x-python",
   "name": "python",
   "nbconvert_exporter": "python",
   "pygments_lexer": "ipython3",
   "version": "3.11.5"
  },
  "orig_nbformat": 4
 },
 "nbformat": 4,
 "nbformat_minor": 2
}
