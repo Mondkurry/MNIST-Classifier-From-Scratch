{
 "cells": [
  {
   "cell_type": "code",
   "execution_count": 1,
   "metadata": {},
   "outputs": [],
   "source": [
    "\n",
    "\n",
    "import numpy as np\n",
    "import pandas as pd\n",
    "import matplotlib.pyplot as plt\n",
    "import random\n",
    "\n",
    "from MLUtils import printPurple\n",
    "import EngineMain\n",
    "\n",
    "from keras.datasets import mnist\n",
    "import keras\n",
    "import numpy as np"
   ]
  },
  {
   "cell_type": "code",
   "execution_count": 2,
   "metadata": {},
   "outputs": [],
   "source": [
    "(x_train,y_train),(x_test,y_test) = mnist.load_data()\n",
    "train_images = np.asarray(x_train, dtype=np.float32) / 255.0\n",
    "test_images = np.asarray(x_test, dtype=np.float32) / 255.0\n",
    "train_images = train_images.reshape(60000,784)\n",
    "test_images = test_images.reshape(10000,784)\n",
    "y_train = keras.utils.to_categorical(y_train)"
   ]
  },
  {
   "cell_type": "code",
   "execution_count": 3,
   "metadata": {},
   "outputs": [],
   "source": [
    "def calculate_loss(X,Y,W):\n",
    "  \n",
    "  return -(1/X.shape[0])*np.sum(np.sum(Y*np.log(np.exp(np.matmul(X,W)) / np.sum(np.exp(np.matmul(X,W)),axis=1)[:, None]),axis = 1))"
   ]
  },
  {
   "cell_type": "code",
   "execution_count": 4,
   "metadata": {},
   "outputs": [
    {
     "name": "stdout",
     "output_type": "stream",
     "text": [
      "loss in step 0 is 10.674165928117928\n",
      "loss in step 1000 is 0.5992846412093941\n",
      "loss in step 2000 is 0.47695281439398907\n",
      "loss in step 3000 is 0.43704316996091586\n",
      "loss in step 4000 is 0.39273582356927517\n",
      "loss in step 5000 is 0.3737547845031912\n",
      "loss in step 6000 is 0.3691890463480622\n",
      "loss in step 7000 is 0.37253601191948754\n",
      "loss in step 8000 is 0.33644605091996593\n",
      "loss in step 9000 is 0.335852088177036\n",
      "loss in step 10000 is 0.32669922520371714\n",
      "loss in step 11000 is 0.3154183249649877\n",
      "loss in step 12000 is 0.309051223266382\n",
      "loss in step 13000 is 0.3196061982635404\n",
      "loss in step 14000 is 0.3043580378356007\n",
      "loss in step 15000 is 0.29537691125592364\n",
      "loss in step 16000 is 0.30121303337571104\n",
      "loss in step 17000 is 0.30681250948140704\n",
      "loss in step 18000 is 0.3177080331044467\n",
      "loss in step 19000 is 0.28997730772493024\n",
      "loss in final step 20000 is 0.2926738143809718\n"
     ]
    }
   ],
   "source": [
    "from EngineMain import Value\n",
    "\n",
    "batch_size = 50\n",
    "steps = 20000\n",
    "Wb = Value(np.random.randn(784,10))# new initialized weights for gradient descent\n",
    "for step in range(steps):\n",
    "  ri = np.random.permutation(train_images.shape[0])[:batch_size]\n",
    "  Xb, yb = Value(train_images[ri]), Value(y_train[ri])\n",
    "  y_predW = Xb.matmul(Wb)\n",
    "  probs = y_predW.softmax()\n",
    "  log_probs = probs.log()\n",
    "\n",
    "  zb = yb*log_probs\n",
    "\n",
    "  outb = zb.reduce_sum(axis = 1)\n",
    "  finb = -outb.reduce_sum()  #cross entropy loss\n",
    "  finb.backward()\n",
    "  if step%1000==0:\n",
    "    loss = calculate_loss(train_images,y_train,Wb.data)\n",
    "    print(f'loss in step {step} is {loss}')\n",
    "  Wb.data = Wb.data- 0.01*Wb.grad\n",
    "  Wb.grad = 0\n",
    "loss = calculate_loss(train_images,y_train,Wb.data)\n",
    "print(f'loss in final step {step+1} is {loss}')"
   ]
  },
  {
   "cell_type": "code",
   "execution_count": 5,
   "metadata": {},
   "outputs": [
    {
     "name": "stdout",
     "output_type": "stream",
     "text": [
      "accuracy on test data is 91.06 %\n"
     ]
    }
   ],
   "source": [
    "from sklearn.metrics import accuracy_score\n",
    "print(f'accuracy on test data is {accuracy_score(np.argmax(np.matmul(test_images,Wb.data),axis = 1),y_test)*100} %')"
   ]
  },
  {
   "cell_type": "code",
   "execution_count": 6,
   "metadata": {},
   "outputs": [
    {
     "name": "stdout",
     "output_type": "stream",
     "text": [
      "accuracy on test data is 91.06 %\n"
     ]
    }
   ],
   "source": [
    "from sklearn.metrics import accuracy_score\n",
    "print(f'accuracy on test data is {accuracy_score(np.argmax(np.matmul(test_images,Wb.data),axis = 1),y_test)*100} %')"
   ]
  },
  {
   "cell_type": "code",
   "execution_count": 9,
   "metadata": {},
   "outputs": [],
   "source": [
    "from EngineMain import Visualizer\n"
   ]
  }
 ],
 "metadata": {
  "kernelspec": {
   "display_name": "Python 3",
   "language": "python",
   "name": "python3"
  },
  "language_info": {
   "codemirror_mode": {
    "name": "ipython",
    "version": 3
   },
   "file_extension": ".py",
   "mimetype": "text/x-python",
   "name": "python",
   "nbconvert_exporter": "python",
   "pygments_lexer": "ipython3",
   "version": "3.11.4"
  },
  "orig_nbformat": 4
 },
 "nbformat": 4,
 "nbformat_minor": 2
}
