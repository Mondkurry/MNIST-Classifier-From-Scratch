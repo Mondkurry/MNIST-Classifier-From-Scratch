{
 "cells": [
  {
   "cell_type": "code",
   "execution_count": 28,
   "metadata": {},
   "outputs": [],
   "source": [
    "\n",
    "\n",
    "import numpy as np\n",
    "import pandas as pd\n",
    "import matplotlib.pyplot as plt\n",
    "import random\n",
    "\n",
    "from MLUtils import printPurple\n",
    "import EngineMain\n",
    "\n",
    "from keras.datasets import mnist\n",
    "import keras\n",
    "import numpy as np"
   ]
  },
  {
   "cell_type": "code",
   "execution_count": 29,
   "metadata": {},
   "outputs": [],
   "source": [
    "(x_train,y_train),(x_test,y_test) = mnist.load_data()\n",
    "train_images = np.asarray(x_train, dtype=np.float32) / 255.0\n",
    "test_images = np.asarray(x_test, dtype=np.float32) / 255.0\n",
    "train_images = train_images.reshape(60000,784)\n",
    "test_images = test_images.reshape(10000,784)\n",
    "y_train = keras.utils.to_categorical(y_train)"
   ]
  },
  {
   "cell_type": "code",
   "execution_count": 30,
   "metadata": {},
   "outputs": [],
   "source": [
    "def calculate_loss(X,Y,W):\n",
    "  \n",
    "  return -(1/X.shape[0])*np.sum(np.sum(Y*np.log(np.exp(np.matmul(X,W)) / np.sum(np.exp(np.matmul(X,W)),axis=1)[:, None]),axis = 1))"
   ]
  },
  {
   "cell_type": "code",
   "execution_count": 33,
   "metadata": {},
   "outputs": [
    {
     "name": "stdout",
     "output_type": "stream",
     "text": [
      "loss in step 0 is 15.156863978136087\n",
      "loss in step 1000 is 0.5779007283959585\n",
      "loss in step 2000 is 0.46840961626971633\n",
      "loss in step 3000 is 0.4270296135706557\n",
      "loss in step 4000 is 0.4022004551377466\n",
      "loss in step 5000 is 0.3676978455819372\n",
      "loss in step 6000 is 0.3738015482382613\n",
      "loss in step 7000 is 0.36378445227724004\n",
      "loss in step 8000 is 0.33987490854204555\n",
      "loss in step 9000 is 0.3359367193900418\n",
      "loss in step 10000 is 0.33292583519853935\n",
      "loss in step 11000 is 0.32540727815639126\n",
      "loss in step 12000 is 0.31598990216771344\n",
      "loss in step 13000 is 0.30382769319685554\n",
      "loss in step 14000 is 0.3134027846993586\n",
      "loss in step 15000 is 0.30144781825515277\n",
      "loss in step 16000 is 0.29731119690648417\n",
      "loss in step 17000 is 0.2938673853142237\n",
      "loss in step 18000 is 0.2892024115822922\n",
      "loss in step 19000 is 0.291476053619765\n",
      "loss in final step 20000 is 0.2860232656239528\n"
     ]
    }
   ],
   "source": [
    "from EngineMain import Value\n",
    "\n",
    "batch_size = 50\n",
    "steps = 20000\n",
    "Wb = Value(np.random.randn(784,10))# new initialized weights for gradient descent\n",
    "for step in range(steps):\n",
    "  ri = np.random.permutation(train_images.shape[0])[:batch_size]\n",
    "  Xb, yb = Value(train_images[ri]), Value(y_train[ri])\n",
    "  y_predW = Xb.matmul(Wb)\n",
    "  probs = y_predW.softmax()\n",
    "  log_probs = probs.log()\n",
    "\n",
    "  zb = yb*log_probs\n",
    "\n",
    "  outb = zb.reduce_sum(axis = 1)\n",
    "  finb = -outb.reduce_sum()  #cross entropy loss\n",
    "  finb.backward()\n",
    "  if step%1000==0:\n",
    "    loss = calculate_loss(train_images,y_train,Wb.data)\n",
    "    print(f'loss in step {step} is {loss}')\n",
    "  Wb.data = Wb.data- 0.01*Wb.grad\n",
    "  Wb.grad = 0\n",
    "loss = calculate_loss(train_images,y_train,Wb.data)\n",
    "print(f'loss in final step {step+1} is {loss}')"
   ]
  },
  {
   "cell_type": "code",
   "execution_count": 37,
   "metadata": {},
   "outputs": [
    {
     "name": "stdout",
     "output_type": "stream",
     "text": [
      "accuracy on test data is 91.27 %\n"
     ]
    }
   ],
   "source": [
    "from sklearn.metrics import accuracy_score\n",
    "print(f'accuracy on test data is {accuracy_score(np.argmax(np.matmul(test_images,Wb.data),axis = 1),y_test)*100} %')"
   ]
  },
  {
   "cell_type": "code",
   "execution_count": 38,
   "metadata": {},
   "outputs": [
    {
     "name": "stdout",
     "output_type": "stream",
     "text": [
      "accuracy on test data is 91.27 %\n"
     ]
    }
   ],
   "source": [
    "from sklearn.metrics import accuracy_score\n",
    "print(f'accuracy on test data is {accuracy_score(np.argmax(np.matmul(test_images,Wb.data),axis = 1),y_test)*100} %')"
   ]
  }
 ],
 "metadata": {
  "kernelspec": {
   "display_name": "Python 3",
   "language": "python",
   "name": "python3"
  },
  "language_info": {
   "codemirror_mode": {
    "name": "ipython",
    "version": 3
   },
   "file_extension": ".py",
   "mimetype": "text/x-python",
   "name": "python",
   "nbconvert_exporter": "python",
   "pygments_lexer": "ipython3",
   "version": "3.11.4"
  },
  "orig_nbformat": 4
 },
 "nbformat": 4,
 "nbformat_minor": 2
}
